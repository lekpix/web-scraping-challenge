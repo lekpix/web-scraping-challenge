{
 "cells": [
  {
   "cell_type": "code",
   "execution_count": 1,
   "id": "e5b284df",
   "metadata": {},
   "outputs": [],
   "source": [
    "from splinter import Browser\n",
    "from bs4 import BeautifulSoup\n",
    "from webdriver_manager.chrome import ChromeDriverManager\n",
    "import pandas as pd\n",
    "from selenium.webdriver.common.by import By\n",
    "import time"
   ]
  },
  {
   "cell_type": "markdown",
   "id": "4d83113a",
   "metadata": {},
   "source": [
    "# NASA Mars News"
   ]
  },
  {
   "cell_type": "code",
   "execution_count": 2,
   "id": "40233873",
   "metadata": {},
   "outputs": [
    {
     "name": "stderr",
     "output_type": "stream",
     "text": [
      "[WDM] - \n",
      "\n",
      "[WDM] - ====== WebDriver manager ======\n",
      "[WDM] - Current google-chrome version is 95.0.4638\n",
      "[WDM] - Get LATEST driver version for 95.0.4638\n",
      "[WDM] - Driver [C:\\Users\\lekpi\\.wdm\\drivers\\chromedriver\\win32\\95.0.4638.54\\chromedriver.exe] found in cache\n"
     ]
    }
   ],
   "source": [
    "executable_path = {'executable_path': ChromeDriverManager().install()}\n",
    "browser = Browser('chrome', **executable_path, headless=False)"
   ]
  },
  {
   "cell_type": "code",
   "execution_count": 3,
   "id": "fdcd2be6",
   "metadata": {},
   "outputs": [],
   "source": [
    "url = 'https://redplanetscience.com/'\n",
    "time.sleep(4)\n",
    "browser.visit(url)\n",
    "\n"
   ]
  },
  {
   "cell_type": "code",
   "execution_count": 4,
   "id": "f94a36f3",
   "metadata": {},
   "outputs": [],
   "source": [
    "html = browser.html\n",
    "soup = BeautifulSoup(html, 'html.parser')"
   ]
  },
  {
   "cell_type": "code",
   "execution_count": 5,
   "id": "5f0441c8",
   "metadata": {},
   "outputs": [
    {
     "data": {
      "text/plain": [
       "[<div class=\"list_text\">\n",
       " <div class=\"list_date\">November 6, 2021</div>\n",
       " <div class=\"content_title\">Deadline Closing for Names to Fly on NASA's Next Mars Rover</div>\n",
       " <div class=\"article_teaser_body\">You have until Sept. 30 to send your names to Mars aboard the Mars 2020 rover. </div>\n",
       " </div>,\n",
       " <div class=\"list_text\">\n",
       " <div class=\"list_date\">November 5, 2021</div>\n",
       " <div class=\"content_title\">NASA Wins 4 Webbys, 4 People's Voice Awards</div>\n",
       " <div class=\"article_teaser_body\">Winners include the JPL-managed \"Send Your Name to Mars\" campaign, NASA's Global Climate Change website and Solar System Interactive.</div>\n",
       " </div>,\n",
       " <div class=\"list_text\">\n",
       " <div class=\"list_date\">November 4, 2021</div>\n",
       " <div class=\"content_title\">How NASA's Mars Helicopter Will Reach the Red Planet's Surface</div>\n",
       " <div class=\"article_teaser_body\">The small craft will seek to prove that powered, controlled flight is possible on another planet. But just getting it onto the surface of Mars will take a whole lot of ingenuity.</div>\n",
       " </div>,\n",
       " <div class=\"list_text\">\n",
       " <div class=\"list_date\">November 3, 2021</div>\n",
       " <div class=\"content_title\">InSight's 'Mole' Team Peers into the Pit</div>\n",
       " <div class=\"article_teaser_body\">Efforts to save the heat probe continue.</div>\n",
       " </div>,\n",
       " <div class=\"list_text\">\n",
       " <div class=\"list_date\">October 31, 2021</div>\n",
       " <div class=\"content_title\">MAVEN Maps Electric Currents around Mars that are Fundamental to Atmospheric Loss</div>\n",
       " <div class=\"article_teaser_body\">Five years after NASA’s MAVEN spacecraft entered into orbit around Mars, data from the mission has led to the creation of a map of electric current systems in the Martian atmosphere.</div>\n",
       " </div>,\n",
       " <div class=\"list_text\">\n",
       " <div class=\"list_date\">October 29, 2021</div>\n",
       " <div class=\"content_title\">NASA Prepares for Moon and Mars With New Addition to Its Deep Space Network</div>\n",
       " <div class=\"article_teaser_body\">Robotic spacecraft will be able to communicate with the dish using radio waves and lasers.</div>\n",
       " </div>,\n",
       " <div class=\"list_text\">\n",
       " <div class=\"list_date\">October 28, 2021</div>\n",
       " <div class=\"content_title\">My Culture, My Voice</div>\n",
       " <div class=\"article_teaser_body\">In honor of Hispanic Heritage Month, Christina Hernandez, an instrument engineer on the Mars 2020 mission, talks about her childhood and journey to NASA.</div>\n",
       " </div>,\n",
       " <div class=\"list_text\">\n",
       " <div class=\"list_date\">October 27, 2021</div>\n",
       " <div class=\"content_title\">A Year of Surprising Science From NASA's InSight Mars Mission</div>\n",
       " <div class=\"article_teaser_body\">A batch of new papers summarizes the lander's findings above and below the surface of the Red Planet.</div>\n",
       " </div>,\n",
       " <div class=\"list_text\">\n",
       " <div class=\"list_date\">October 25, 2021</div>\n",
       " <div class=\"content_title\">The Detective Aboard NASA's Perseverance Rover</div>\n",
       " <div class=\"article_teaser_body\">An instrument called SHERLOC will, with the help of its partner WATSON, hunt for signs of ancient life by detecting organic molecules and minerals.</div>\n",
       " </div>,\n",
       " <div class=\"list_text\">\n",
       " <div class=\"list_date\">October 17, 2021</div>\n",
       " <div class=\"content_title\">Meet the People Behind NASA's Perseverance Rover</div>\n",
       " <div class=\"article_teaser_body\">These are the scientists and engineers who built NASA's next Mars rover and who will guide it to a safe landing in Jezero Crater. </div>\n",
       " </div>,\n",
       " <div class=\"list_text\">\n",
       " <div class=\"list_date\">October 13, 2021</div>\n",
       " <div class=\"content_title\">Naming a NASA Mars Rover Can Change Your Life</div>\n",
       " <div class=\"article_teaser_body\">Want to name the robotic scientist NASA is sending to Mars in 2020? The student who named Curiosity — the rover currently exploring Mars — will tell you this is an opportunity worth taking.</div>\n",
       " </div>,\n",
       " <div class=\"list_text\">\n",
       " <div class=\"list_date\">October 11, 2021</div>\n",
       " <div class=\"content_title\">Hear Audio From NASA's Perseverance As It Travels Through Deep Space</div>\n",
       " <div class=\"article_teaser_body\">The first to be rigged with microphones, the agency's latest Mars rover picked up the subtle sounds of its own inner workings during interplanetary flight.</div>\n",
       " </div>,\n",
       " <div class=\"list_text\">\n",
       " <div class=\"list_date\">October 10, 2021</div>\n",
       " <div class=\"content_title\">NASA's Mars 2020 Heads Into the Test Chamber</div>\n",
       " <div class=\"article_teaser_body\">In this time-lapse video taken at JPL, engineers move the Mars 2020 rover into a large vacuum chamber for testing in Mars-like environmental conditions.</div>\n",
       " </div>,\n",
       " <div class=\"list_text\">\n",
       " <div class=\"list_date\">October 10, 2021</div>\n",
       " <div class=\"content_title\">HiRISE Views NASA's InSight and Curiosity on Mars</div>\n",
       " <div class=\"article_teaser_body\">New images taken from space offer the clearest orbital glimpse yet of InSight as well as a view of Curiosity rolling along.</div>\n",
       " </div>,\n",
       " <div class=\"list_text\">\n",
       " <div class=\"list_date\">October 6, 2021</div>\n",
       " <div class=\"content_title\">NASA's InSight Flexes Its Arm While Its 'Mole' Hits Pause</div>\n",
       " <div class=\"article_teaser_body\">Now that the lander's robotic arm has helped the mole get underground, it will resume science activities that have been on hold.</div>\n",
       " </div>]"
      ]
     },
     "execution_count": 5,
     "metadata": {},
     "output_type": "execute_result"
    }
   ],
   "source": [
    "results = soup.find_all('div', class_='list_text')\n",
    "results"
   ]
  },
  {
   "cell_type": "code",
   "execution_count": 6,
   "id": "41fb23f1",
   "metadata": {},
   "outputs": [
    {
     "name": "stdout",
     "output_type": "stream",
     "text": [
      "Deadline Closing for Names to Fly on NASA's Next Mars Rover\n",
      "You have until Sept. 30 to send your names to Mars aboard the Mars 2020 rover. \n"
     ]
    }
   ],
   "source": [
    "news_title_all=[]\n",
    "news_p_all=[]\n",
    "\n",
    "for result in results:\n",
    "    \n",
    "    title=result.find('div', class_='content_title')\n",
    "    news_title_all.append(title)\n",
    "    para=result.find('div', class_='article_teaser_body')\n",
    "    news_p_all.append(para)\n",
    "    \n",
    "news_title=news_title_all[0].text\n",
    "print(news_title)\n",
    "news_p =news_p_all[0].text\n",
    "print(news_p)"
   ]
  },
  {
   "cell_type": "code",
   "execution_count": 7,
   "id": "8f7aed32",
   "metadata": {},
   "outputs": [],
   "source": [
    "browser.quit()"
   ]
  },
  {
   "cell_type": "markdown",
   "id": "670b4f95",
   "metadata": {},
   "source": [
    "# JPL Mars Space Images - Featured Image"
   ]
  },
  {
   "cell_type": "code",
   "execution_count": 8,
   "id": "8df2bbe0",
   "metadata": {},
   "outputs": [
    {
     "name": "stderr",
     "output_type": "stream",
     "text": [
      "[WDM] - \n",
      "\n",
      "[WDM] - ====== WebDriver manager ======\n",
      "[WDM] - Current google-chrome version is 95.0.4638\n",
      "[WDM] - Get LATEST driver version for 95.0.4638\n",
      "[WDM] - Driver [C:\\Users\\lekpi\\.wdm\\drivers\\chromedriver\\win32\\95.0.4638.54\\chromedriver.exe] found in cache\n"
     ]
    }
   ],
   "source": [
    "executable_path = {'executable_path': ChromeDriverManager().install()}\n",
    "browser = Browser('chrome', **executable_path, headless=False)"
   ]
  },
  {
   "cell_type": "code",
   "execution_count": 9,
   "id": "16d0adfa",
   "metadata": {},
   "outputs": [],
   "source": [
    "url='https://spaceimages-mars.com/' \n",
    "browser.visit(url)"
   ]
  },
  {
   "cell_type": "code",
   "execution_count": 10,
   "id": "70620d46",
   "metadata": {},
   "outputs": [],
   "source": [
    "html = browser.html\n",
    "soup = BeautifulSoup(html, 'html.parser')"
   ]
  },
  {
   "cell_type": "code",
   "execution_count": 11,
   "id": "b1f8be9c",
   "metadata": {},
   "outputs": [],
   "source": [
    "results=soup.find('img', class_='headerimage')\n",
    "image_url=results['src']\n",
    "featured_image_url=url+image_url"
   ]
  },
  {
   "cell_type": "code",
   "execution_count": 12,
   "id": "996d6bf5",
   "metadata": {},
   "outputs": [
    {
     "name": "stdout",
     "output_type": "stream",
     "text": [
      "https://spaceimages-mars.com/image/featured/mars3.jpg\n"
     ]
    }
   ],
   "source": [
    "print(featured_image_url)"
   ]
  },
  {
   "cell_type": "code",
   "execution_count": 13,
   "id": "f671c2f2",
   "metadata": {},
   "outputs": [],
   "source": [
    "browser.quit()"
   ]
  },
  {
   "cell_type": "markdown",
   "id": "d0937886",
   "metadata": {},
   "source": [
    "# Mars Facts"
   ]
  },
  {
   "cell_type": "code",
   "execution_count": 14,
   "id": "8406526c",
   "metadata": {},
   "outputs": [],
   "source": [
    "url='https://galaxyfacts-mars.com'\n",
    "table=pd.read_html(url)"
   ]
  },
  {
   "cell_type": "code",
   "execution_count": 15,
   "id": "68a49faa",
   "metadata": {},
   "outputs": [
    {
     "data": {
      "text/plain": [
       "[                         0                1                2\n",
       " 0  Mars - Earth Comparison             Mars            Earth\n",
       " 1                Diameter:         6,779 km        12,742 km\n",
       " 2                    Mass:  6.39 × 10^23 kg  5.97 × 10^24 kg\n",
       " 3                   Moons:                2                1\n",
       " 4       Distance from Sun:   227,943,824 km   149,598,262 km\n",
       " 5          Length of Year:   687 Earth days      365.24 days\n",
       " 6             Temperature:     -87 to -5 °C      -88 to 58°C,\n",
       "                       0                              1\n",
       " 0  Equatorial Diameter:                       6,792 km\n",
       " 1       Polar Diameter:                       6,752 km\n",
       " 2                 Mass:  6.39 × 10^23 kg (0.11 Earths)\n",
       " 3                Moons:          2 ( Phobos & Deimos )\n",
       " 4       Orbit Distance:       227,943,824 km (1.38 AU)\n",
       " 5         Orbit Period:           687 days (1.9 years)\n",
       " 6  Surface Temperature:                   -87 to -5 °C\n",
       " 7         First Record:              2nd millennium BC\n",
       " 8          Recorded By:           Egyptian astronomers]"
      ]
     },
     "execution_count": 15,
     "metadata": {},
     "output_type": "execute_result"
    }
   ],
   "source": [
    "table"
   ]
  },
  {
   "cell_type": "code",
   "execution_count": 16,
   "id": "1ef98caf",
   "metadata": {},
   "outputs": [],
   "source": [
    "planetfacts_df=table[0]"
   ]
  },
  {
   "cell_type": "code",
   "execution_count": 17,
   "id": "08fb55b6",
   "metadata": {},
   "outputs": [
    {
     "data": {
      "text/html": [
       "<div>\n",
       "<style scoped>\n",
       "    .dataframe tbody tr th:only-of-type {\n",
       "        vertical-align: middle;\n",
       "    }\n",
       "\n",
       "    .dataframe tbody tr th {\n",
       "        vertical-align: top;\n",
       "    }\n",
       "\n",
       "    .dataframe thead th {\n",
       "        text-align: right;\n",
       "    }\n",
       "</style>\n",
       "<table border=\"1\" class=\"dataframe\">\n",
       "  <thead>\n",
       "    <tr style=\"text-align: right;\">\n",
       "      <th></th>\n",
       "      <th>0</th>\n",
       "      <th>1</th>\n",
       "      <th>2</th>\n",
       "    </tr>\n",
       "  </thead>\n",
       "  <tbody>\n",
       "    <tr>\n",
       "      <th>0</th>\n",
       "      <td>Mars - Earth Comparison</td>\n",
       "      <td>Mars</td>\n",
       "      <td>Earth</td>\n",
       "    </tr>\n",
       "    <tr>\n",
       "      <th>1</th>\n",
       "      <td>Diameter:</td>\n",
       "      <td>6,779 km</td>\n",
       "      <td>12,742 km</td>\n",
       "    </tr>\n",
       "    <tr>\n",
       "      <th>2</th>\n",
       "      <td>Mass:</td>\n",
       "      <td>6.39 × 10^23 kg</td>\n",
       "      <td>5.97 × 10^24 kg</td>\n",
       "    </tr>\n",
       "    <tr>\n",
       "      <th>3</th>\n",
       "      <td>Moons:</td>\n",
       "      <td>2</td>\n",
       "      <td>1</td>\n",
       "    </tr>\n",
       "    <tr>\n",
       "      <th>4</th>\n",
       "      <td>Distance from Sun:</td>\n",
       "      <td>227,943,824 km</td>\n",
       "      <td>149,598,262 km</td>\n",
       "    </tr>\n",
       "    <tr>\n",
       "      <th>5</th>\n",
       "      <td>Length of Year:</td>\n",
       "      <td>687 Earth days</td>\n",
       "      <td>365.24 days</td>\n",
       "    </tr>\n",
       "    <tr>\n",
       "      <th>6</th>\n",
       "      <td>Temperature:</td>\n",
       "      <td>-87 to -5 °C</td>\n",
       "      <td>-88 to 58°C</td>\n",
       "    </tr>\n",
       "  </tbody>\n",
       "</table>\n",
       "</div>"
      ],
      "text/plain": [
       "                         0                1                2\n",
       "0  Mars - Earth Comparison             Mars            Earth\n",
       "1                Diameter:         6,779 km        12,742 km\n",
       "2                    Mass:  6.39 × 10^23 kg  5.97 × 10^24 kg\n",
       "3                   Moons:                2                1\n",
       "4       Distance from Sun:   227,943,824 km   149,598,262 km\n",
       "5          Length of Year:   687 Earth days      365.24 days\n",
       "6             Temperature:     -87 to -5 °C      -88 to 58°C"
      ]
     },
     "execution_count": 17,
     "metadata": {},
     "output_type": "execute_result"
    }
   ],
   "source": [
    "planetfacts_df"
   ]
  },
  {
   "cell_type": "code",
   "execution_count": 18,
   "id": "f06ed7d6",
   "metadata": {},
   "outputs": [],
   "source": [
    "planetfacts_df.columns=['Description','Mars','Earth']"
   ]
  },
  {
   "cell_type": "code",
   "execution_count": 19,
   "id": "c0773b21",
   "metadata": {},
   "outputs": [
    {
     "data": {
      "text/html": [
       "<div>\n",
       "<style scoped>\n",
       "    .dataframe tbody tr th:only-of-type {\n",
       "        vertical-align: middle;\n",
       "    }\n",
       "\n",
       "    .dataframe tbody tr th {\n",
       "        vertical-align: top;\n",
       "    }\n",
       "\n",
       "    .dataframe thead th {\n",
       "        text-align: right;\n",
       "    }\n",
       "</style>\n",
       "<table border=\"1\" class=\"dataframe\">\n",
       "  <thead>\n",
       "    <tr style=\"text-align: right;\">\n",
       "      <th></th>\n",
       "      <th>Description</th>\n",
       "      <th>Mars</th>\n",
       "      <th>Earth</th>\n",
       "    </tr>\n",
       "  </thead>\n",
       "  <tbody>\n",
       "    <tr>\n",
       "      <th>0</th>\n",
       "      <td>Mars - Earth Comparison</td>\n",
       "      <td>Mars</td>\n",
       "      <td>Earth</td>\n",
       "    </tr>\n",
       "    <tr>\n",
       "      <th>1</th>\n",
       "      <td>Diameter:</td>\n",
       "      <td>6,779 km</td>\n",
       "      <td>12,742 km</td>\n",
       "    </tr>\n",
       "    <tr>\n",
       "      <th>2</th>\n",
       "      <td>Mass:</td>\n",
       "      <td>6.39 × 10^23 kg</td>\n",
       "      <td>5.97 × 10^24 kg</td>\n",
       "    </tr>\n",
       "    <tr>\n",
       "      <th>3</th>\n",
       "      <td>Moons:</td>\n",
       "      <td>2</td>\n",
       "      <td>1</td>\n",
       "    </tr>\n",
       "    <tr>\n",
       "      <th>4</th>\n",
       "      <td>Distance from Sun:</td>\n",
       "      <td>227,943,824 km</td>\n",
       "      <td>149,598,262 km</td>\n",
       "    </tr>\n",
       "    <tr>\n",
       "      <th>5</th>\n",
       "      <td>Length of Year:</td>\n",
       "      <td>687 Earth days</td>\n",
       "      <td>365.24 days</td>\n",
       "    </tr>\n",
       "    <tr>\n",
       "      <th>6</th>\n",
       "      <td>Temperature:</td>\n",
       "      <td>-87 to -5 °C</td>\n",
       "      <td>-88 to 58°C</td>\n",
       "    </tr>\n",
       "  </tbody>\n",
       "</table>\n",
       "</div>"
      ],
      "text/plain": [
       "               Description             Mars            Earth\n",
       "0  Mars - Earth Comparison             Mars            Earth\n",
       "1                Diameter:         6,779 km        12,742 km\n",
       "2                    Mass:  6.39 × 10^23 kg  5.97 × 10^24 kg\n",
       "3                   Moons:                2                1\n",
       "4       Distance from Sun:   227,943,824 km   149,598,262 km\n",
       "5          Length of Year:   687 Earth days      365.24 days\n",
       "6             Temperature:     -87 to -5 °C      -88 to 58°C"
      ]
     },
     "execution_count": 19,
     "metadata": {},
     "output_type": "execute_result"
    }
   ],
   "source": [
    "planetfacts_df"
   ]
  },
  {
   "cell_type": "code",
   "execution_count": 20,
   "id": "bae81d40",
   "metadata": {},
   "outputs": [],
   "source": [
    "planetfacts_df=planetfacts_df.set_index('Description')"
   ]
  },
  {
   "cell_type": "code",
   "execution_count": 21,
   "id": "b6df9442",
   "metadata": {},
   "outputs": [],
   "source": [
    "planetfacts_df.to_html(\"../Output/Mars_Facts.html\",index=True)"
   ]
  },
  {
   "cell_type": "code",
   "execution_count": 22,
   "id": "c4722371",
   "metadata": {},
   "outputs": [
    {
     "name": "stdout",
     "output_type": "stream",
     "text": [
      "<table border=\"1\" class=\"dataframe\">\n",
      "  <thead>\n",
      "    <tr style=\"text-align: right;\">\n",
      "      <th></th>\n",
      "      <th>Mars</th>\n",
      "      <th>Earth</th>\n",
      "    </tr>\n",
      "    <tr>\n",
      "      <th>Description</th>\n",
      "      <th></th>\n",
      "      <th></th>\n",
      "    </tr>\n",
      "  </thead>\n",
      "  <tbody>\n",
      "    <tr>\n",
      "      <th>Mars - Earth Comparison</th>\n",
      "      <td>Mars</td>\n",
      "      <td>Earth</td>\n",
      "    </tr>\n",
      "    <tr>\n",
      "      <th>Diameter:</th>\n",
      "      <td>6,779 km</td>\n",
      "      <td>12,742 km</td>\n",
      "    </tr>\n",
      "    <tr>\n",
      "      <th>Mass:</th>\n",
      "      <td>6.39 × 10^23 kg</td>\n",
      "      <td>5.97 × 10^24 kg</td>\n",
      "    </tr>\n",
      "    <tr>\n",
      "      <th>Moons:</th>\n",
      "      <td>2</td>\n",
      "      <td>1</td>\n",
      "    </tr>\n",
      "    <tr>\n",
      "      <th>Distance from Sun:</th>\n",
      "      <td>227,943,824 km</td>\n",
      "      <td>149,598,262 km</td>\n",
      "    </tr>\n",
      "    <tr>\n",
      "      <th>Length of Year:</th>\n",
      "      <td>687 Earth days</td>\n",
      "      <td>365.24 days</td>\n",
      "    </tr>\n",
      "    <tr>\n",
      "      <th>Temperature:</th>\n",
      "      <td>-87 to -5 °C</td>\n",
      "      <td>-88 to 58°C</td>\n",
      "    </tr>\n",
      "  </tbody>\n",
      "</table>\n"
     ]
    }
   ],
   "source": [
    "Mars_facts=planetfacts_df.to_html()\n",
    "print(Mars_facts)"
   ]
  },
  {
   "cell_type": "markdown",
   "id": "ab7736cb",
   "metadata": {},
   "source": [
    "# Mars Hemispheres"
   ]
  },
  {
   "cell_type": "code",
   "execution_count": 23,
   "id": "ccce94c4",
   "metadata": {},
   "outputs": [
    {
     "name": "stderr",
     "output_type": "stream",
     "text": [
      "[WDM] - \n",
      "\n",
      "[WDM] - ====== WebDriver manager ======\n",
      "[WDM] - Current google-chrome version is 95.0.4638\n",
      "[WDM] - Get LATEST driver version for 95.0.4638\n",
      "[WDM] - Driver [C:\\Users\\lekpi\\.wdm\\drivers\\chromedriver\\win32\\95.0.4638.54\\chromedriver.exe] found in cache\n"
     ]
    }
   ],
   "source": [
    "executable_path = {'executable_path': ChromeDriverManager().install()}\n",
    "browser = Browser('chrome', **executable_path, headless=False)"
   ]
  },
  {
   "cell_type": "code",
   "execution_count": 24,
   "id": "ac44b6d1",
   "metadata": {},
   "outputs": [],
   "source": [
    "url='https://marshemispheres.com/' \n",
    "browser.visit(url)\n",
    "time.sleep(1)"
   ]
  },
  {
   "cell_type": "code",
   "execution_count": 25,
   "id": "f794c652",
   "metadata": {},
   "outputs": [],
   "source": [
    "html=browser.html\n",
    "soup=BeautifulSoup(html,'html.parser')"
   ]
  },
  {
   "cell_type": "code",
   "execution_count": 26,
   "id": "3adae6bb",
   "metadata": {},
   "outputs": [],
   "source": [
    "results=soup.find_all('div',class_='item')\n"
   ]
  },
  {
   "cell_type": "code",
   "execution_count": 27,
   "id": "c8571725",
   "metadata": {},
   "outputs": [],
   "source": [
    "hemisphere_image_urls = []\n",
    "\n",
    "for result in results:\n",
    "    #Getting the title\n",
    "    x=result.find('h3').text\n",
    "    title1=x.strip('Enhanced')\n",
    "    \n",
    "    #Getting the image URL\n",
    "    first_page=result.find('a')\n",
    "    first_page_src=first_page['href']\n",
    "    first_page_url=url+first_page_src\n",
    "    browser.visit(first_page_url)\n",
    "    html=browser.html\n",
    "    soup=BeautifulSoup(html,'html.parser')\n",
    "    full_img=soup.find('img',class_='wide-image')\n",
    "    full_img_url=url+full_img['src']\n",
    "   \n",
    "    hemisphere_image_urls.append({\n",
    "    'title':title1,\n",
    "    'img_url':full_img_url})\n",
    "    "
   ]
  },
  {
   "cell_type": "code",
   "execution_count": 28,
   "id": "cf92e434",
   "metadata": {},
   "outputs": [
    {
     "data": {
      "text/plain": [
       "[{'title': 'Cerberus Hemisphere ',\n",
       "  'img_url': 'https://marshemispheres.com/images/f5e372a36edfa389625da6d0cc25d905_cerberus_enhanced.tif_full.jpg'},\n",
       " {'title': 'Schiaparelli Hemisphere ',\n",
       "  'img_url': 'https://marshemispheres.com/images/3778f7b43bbbc89d6e3cfabb3613ba93_schiaparelli_enhanced.tif_full.jpg'},\n",
       " {'title': 'Syrtis Major Hemisphere ',\n",
       "  'img_url': 'https://marshemispheres.com/images/555e6403a6ddd7ba16ddb0e471cadcf7_syrtis_major_enhanced.tif_full.jpg'},\n",
       " {'title': 'Valles Marineris Hemisphere ',\n",
       "  'img_url': 'https://marshemispheres.com/images/b3c7c6c9138f57b4756be9b9c43e3a48_valles_marineris_enhanced.tif_full.jpg'}]"
      ]
     },
     "execution_count": 28,
     "metadata": {},
     "output_type": "execute_result"
    }
   ],
   "source": [
    "hemisphere_image_urls"
   ]
  },
  {
   "cell_type": "code",
   "execution_count": 29,
   "id": "9d7adc43",
   "metadata": {},
   "outputs": [],
   "source": [
    "browser.quit()"
   ]
  },
  {
   "cell_type": "code",
   "execution_count": 30,
   "id": "301ca7a6",
   "metadata": {},
   "outputs": [
    {
     "data": {
      "text/plain": [
       "{'news_title': \"Deadline Closing for Names to Fly on NASA's Next Mars Rover\",\n",
       " 'news_p': 'You have until Sept. 30 to send your names to Mars aboard the Mars 2020 rover. ',\n",
       " 'featured_image_url': 'https://spaceimages-mars.com/image/featured/mars3.jpg',\n",
       " 'mars_facts': '<table border=\"1\" class=\"dataframe\">\\n  <thead>\\n    <tr style=\"text-align: right;\">\\n      <th></th>\\n      <th>Mars</th>\\n      <th>Earth</th>\\n    </tr>\\n    <tr>\\n      <th>Description</th>\\n      <th></th>\\n      <th></th>\\n    </tr>\\n  </thead>\\n  <tbody>\\n    <tr>\\n      <th>Mars - Earth Comparison</th>\\n      <td>Mars</td>\\n      <td>Earth</td>\\n    </tr>\\n    <tr>\\n      <th>Diameter:</th>\\n      <td>6,779 km</td>\\n      <td>12,742 km</td>\\n    </tr>\\n    <tr>\\n      <th>Mass:</th>\\n      <td>6.39 × 10^23 kg</td>\\n      <td>5.97 × 10^24 kg</td>\\n    </tr>\\n    <tr>\\n      <th>Moons:</th>\\n      <td>2</td>\\n      <td>1</td>\\n    </tr>\\n    <tr>\\n      <th>Distance from Sun:</th>\\n      <td>227,943,824 km</td>\\n      <td>149,598,262 km</td>\\n    </tr>\\n    <tr>\\n      <th>Length of Year:</th>\\n      <td>687 Earth days</td>\\n      <td>365.24 days</td>\\n    </tr>\\n    <tr>\\n      <th>Temperature:</th>\\n      <td>-87 to -5 °C</td>\\n      <td>-88 to 58°C</td>\\n    </tr>\\n  </tbody>\\n</table>',\n",
       " 'hemisphere_image_urls': [{'title': 'Cerberus Hemisphere ',\n",
       "   'img_url': 'https://marshemispheres.com/images/f5e372a36edfa389625da6d0cc25d905_cerberus_enhanced.tif_full.jpg'},\n",
       "  {'title': 'Schiaparelli Hemisphere ',\n",
       "   'img_url': 'https://marshemispheres.com/images/3778f7b43bbbc89d6e3cfabb3613ba93_schiaparelli_enhanced.tif_full.jpg'},\n",
       "  {'title': 'Syrtis Major Hemisphere ',\n",
       "   'img_url': 'https://marshemispheres.com/images/555e6403a6ddd7ba16ddb0e471cadcf7_syrtis_major_enhanced.tif_full.jpg'},\n",
       "  {'title': 'Valles Marineris Hemisphere ',\n",
       "   'img_url': 'https://marshemispheres.com/images/b3c7c6c9138f57b4756be9b9c43e3a48_valles_marineris_enhanced.tif_full.jpg'}]}"
      ]
     },
     "execution_count": 30,
     "metadata": {},
     "output_type": "execute_result"
    }
   ],
   "source": [
    "# Create empty dictionary for all Mars Data.\n",
    "mars_data = {}\n",
    "\n",
    "# Append news_title and news_paragraph to mars_data.\n",
    "mars_data['news_title'] = news_title\n",
    "mars_data['news_p'] = news_p\n",
    "# Append featured_image_url to mars_data.\n",
    "mars_data['featured_image_url'] = featured_image_url\n",
    "# Append mars_facts to mars_data.\n",
    "mars_data['Mars_facts'] = Mars_facts\n",
    "# Append hemisphere_image_urls to mars_data.\n",
    "mars_data['hemisphere_image_urls'] = hemisphere_image_urls\n",
    "mars_data"
   ]
  },
  {
   "cell_type": "code",
   "execution_count": null,
   "id": "41eebd4c",
   "metadata": {},
   "outputs": [],
   "source": []
  }
 ],
 "metadata": {
  "interpreter": {
   "hash": "c0dc35c8cdd5cf80b66af05116f19b0e585c55cb032af3f936417523aca6b11b"
  },
  "kernelspec": {
   "display_name": "Python 3",
   "language": "python",
   "name": "python3"
  },
  "language_info": {
   "codemirror_mode": {
    "name": "ipython",
    "version": 3
   },
   "file_extension": ".py",
   "mimetype": "text/x-python",
   "name": "python",
   "nbconvert_exporter": "python",
   "pygments_lexer": "ipython3",
   "version": "3.8.8"
  }
 },
 "nbformat": 4,
 "nbformat_minor": 5
}
